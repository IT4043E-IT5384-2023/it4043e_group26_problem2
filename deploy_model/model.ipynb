{
 "cells": [
  {
   "cell_type": "code",
   "execution_count": 3,
   "metadata": {},
   "outputs": [],
   "source": [
    "\n",
    "import pandas as pd"
   ]
  },
  {
   "cell_type": "code",
   "execution_count": 4,
   "metadata": {},
   "outputs": [],
   "source": [
    "df = pd.read_parquet(r\"C:\\Users\\Admin\\Desktop\\New folder\\post_data.parquet\")"
   ]
  },
  {
   "cell_type": "code",
   "execution_count": 5,
   "metadata": {},
   "outputs": [
    {
     "data": {
      "text/html": [
       "<div>\n",
       "<style scoped>\n",
       "    .dataframe tbody tr th:only-of-type {\n",
       "        vertical-align: middle;\n",
       "    }\n",
       "\n",
       "    .dataframe tbody tr th {\n",
       "        vertical-align: top;\n",
       "    }\n",
       "\n",
       "    .dataframe thead th {\n",
       "        text-align: right;\n",
       "    }\n",
       "</style>\n",
       "<table border=\"1\" class=\"dataframe\">\n",
       "  <thead>\n",
       "    <tr style=\"text-align: right;\">\n",
       "      <th></th>\n",
       "      <th>screen_name</th>\n",
       "      <th>hashtags</th>\n",
       "      <th>bookmark_count</th>\n",
       "      <th>created_at</th>\n",
       "      <th>favorite_count</th>\n",
       "      <th>full_text</th>\n",
       "      <th>is_quote_status</th>\n",
       "      <th>quote_count</th>\n",
       "      <th>reply_count</th>\n",
       "      <th>retweet_count</th>\n",
       "      <th>...</th>\n",
       "      <th>is_reply</th>\n",
       "      <th>views</th>\n",
       "      <th>url</th>\n",
       "      <th>time_diff</th>\n",
       "      <th>average_time_diff</th>\n",
       "      <th>time_diff_seconds</th>\n",
       "      <th>average_time_diff_seconds</th>\n",
       "      <th>time_bot</th>\n",
       "      <th>views/like</th>\n",
       "      <th>views_score</th>\n",
       "    </tr>\n",
       "  </thead>\n",
       "  <tbody>\n",
       "    <tr>\n",
       "      <th>0</th>\n",
       "      <td>0xASMedia</td>\n",
       "      <td>HOODIESEASON</td>\n",
       "      <td>1</td>\n",
       "      <td>2023-11-10 19:32:06</td>\n",
       "      <td>151</td>\n",
       "      <td>#HOODIESEASON\\n\\nFollowing trends always kind ...</td>\n",
       "      <td>False</td>\n",
       "      <td>1</td>\n",
       "      <td>24</td>\n",
       "      <td>209</td>\n",
       "      <td>...</td>\n",
       "      <td>False</td>\n",
       "      <td>2814</td>\n",
       "      <td>https://twitter.com/0xASMedia/status/172306098...</td>\n",
       "      <td>NaN</td>\n",
       "      <td>40029.5</td>\n",
       "      <td>NaN</td>\n",
       "      <td>40029.5</td>\n",
       "      <td>NaN</td>\n",
       "      <td>18.635762</td>\n",
       "      <td>0</td>\n",
       "    </tr>\n",
       "    <tr>\n",
       "      <th>1</th>\n",
       "      <td>0xASMedia</td>\n",
       "      <td>Giveaway</td>\n",
       "      <td>1</td>\n",
       "      <td>2023-11-11 13:40:51</td>\n",
       "      <td>312</td>\n",
       "      <td>ASM x Unchained Elephants🔥\\n\\nTake part in a #...</td>\n",
       "      <td>False</td>\n",
       "      <td>1</td>\n",
       "      <td>85</td>\n",
       "      <td>308</td>\n",
       "      <td>...</td>\n",
       "      <td>False</td>\n",
       "      <td>5079</td>\n",
       "      <td>https://twitter.com/0xASMedia/status/172333498...</td>\n",
       "      <td>65325.0</td>\n",
       "      <td>40029.5</td>\n",
       "      <td>65325.0</td>\n",
       "      <td>40029.5</td>\n",
       "      <td>0.0</td>\n",
       "      <td>16.278846</td>\n",
       "      <td>0</td>\n",
       "    </tr>\n",
       "    <tr>\n",
       "      <th>2</th>\n",
       "      <td>0xASMedia</td>\n",
       "      <td>XRP</td>\n",
       "      <td>1</td>\n",
       "      <td>2023-11-11 13:40:51</td>\n",
       "      <td>312</td>\n",
       "      <td>ASM x Unchained Elephants🔥\\n\\nTake part in a #...</td>\n",
       "      <td>False</td>\n",
       "      <td>1</td>\n",
       "      <td>85</td>\n",
       "      <td>308</td>\n",
       "      <td>...</td>\n",
       "      <td>False</td>\n",
       "      <td>5079</td>\n",
       "      <td>https://twitter.com/0xASMedia/status/172333498...</td>\n",
       "      <td>0.0</td>\n",
       "      <td>40029.5</td>\n",
       "      <td>0.0</td>\n",
       "      <td>40029.5</td>\n",
       "      <td>0.0</td>\n",
       "      <td>16.278846</td>\n",
       "      <td>0</td>\n",
       "    </tr>\n",
       "    <tr>\n",
       "      <th>3</th>\n",
       "      <td>0xASMedia</td>\n",
       "      <td>auction</td>\n",
       "      <td>1</td>\n",
       "      <td>2023-11-11 13:40:51</td>\n",
       "      <td>312</td>\n",
       "      <td>ASM x Unchained Elephants🔥\\n\\nTake part in a #...</td>\n",
       "      <td>False</td>\n",
       "      <td>1</td>\n",
       "      <td>85</td>\n",
       "      <td>308</td>\n",
       "      <td>...</td>\n",
       "      <td>False</td>\n",
       "      <td>5079</td>\n",
       "      <td>https://twitter.com/0xASMedia/status/172333498...</td>\n",
       "      <td>0.0</td>\n",
       "      <td>40029.5</td>\n",
       "      <td>0.0</td>\n",
       "      <td>40029.5</td>\n",
       "      <td>0.0</td>\n",
       "      <td>16.278846</td>\n",
       "      <td>0</td>\n",
       "    </tr>\n",
       "    <tr>\n",
       "      <th>4</th>\n",
       "      <td>0xASMedia</td>\n",
       "      <td>XRP</td>\n",
       "      <td>1</td>\n",
       "      <td>2023-11-13 14:15:03</td>\n",
       "      <td>289</td>\n",
       "      <td>The time is approaching quickly! #XRP #ASM\\n\\n...</td>\n",
       "      <td>False</td>\n",
       "      <td>1</td>\n",
       "      <td>230</td>\n",
       "      <td>331</td>\n",
       "      <td>...</td>\n",
       "      <td>False</td>\n",
       "      <td>4615</td>\n",
       "      <td>https://twitter.com/0xASMedia/status/172406836...</td>\n",
       "      <td>174852.0</td>\n",
       "      <td>40029.5</td>\n",
       "      <td>174852.0</td>\n",
       "      <td>40029.5</td>\n",
       "      <td>0.0</td>\n",
       "      <td>15.968858</td>\n",
       "      <td>0</td>\n",
       "    </tr>\n",
       "  </tbody>\n",
       "</table>\n",
       "<p>5 rows × 24 columns</p>\n",
       "</div>"
      ],
      "text/plain": [
       "  screen_name      hashtags  bookmark_count          created_at  \\\n",
       "0   0xASMedia  HOODIESEASON               1 2023-11-10 19:32:06   \n",
       "1   0xASMedia      Giveaway               1 2023-11-11 13:40:51   \n",
       "2   0xASMedia           XRP               1 2023-11-11 13:40:51   \n",
       "3   0xASMedia       auction               1 2023-11-11 13:40:51   \n",
       "4   0xASMedia           XRP               1 2023-11-13 14:15:03   \n",
       "\n",
       "   favorite_count                                          full_text  \\\n",
       "0             151  #HOODIESEASON\\n\\nFollowing trends always kind ...   \n",
       "1             312  ASM x Unchained Elephants🔥\\n\\nTake part in a #...   \n",
       "2             312  ASM x Unchained Elephants🔥\\n\\nTake part in a #...   \n",
       "3             312  ASM x Unchained Elephants🔥\\n\\nTake part in a #...   \n",
       "4             289  The time is approaching quickly! #XRP #ASM\\n\\n...   \n",
       "\n",
       "   is_quote_status  quote_count  reply_count  retweet_count  ... is_reply  \\\n",
       "0            False            1           24            209  ...    False   \n",
       "1            False            1           85            308  ...    False   \n",
       "2            False            1           85            308  ...    False   \n",
       "3            False            1           85            308  ...    False   \n",
       "4            False            1          230            331  ...    False   \n",
       "\n",
       "  views                                                url  time_diff  \\\n",
       "0  2814  https://twitter.com/0xASMedia/status/172306098...        NaN   \n",
       "1  5079  https://twitter.com/0xASMedia/status/172333498...    65325.0   \n",
       "2  5079  https://twitter.com/0xASMedia/status/172333498...        0.0   \n",
       "3  5079  https://twitter.com/0xASMedia/status/172333498...        0.0   \n",
       "4  4615  https://twitter.com/0xASMedia/status/172406836...   174852.0   \n",
       "\n",
       "   average_time_diff  time_diff_seconds average_time_diff_seconds  time_bot  \\\n",
       "0            40029.5                NaN                   40029.5       NaN   \n",
       "1            40029.5            65325.0                   40029.5       0.0   \n",
       "2            40029.5                0.0                   40029.5       0.0   \n",
       "3            40029.5                0.0                   40029.5       0.0   \n",
       "4            40029.5           174852.0                   40029.5       0.0   \n",
       "\n",
       "   views/like  views_score  \n",
       "0   18.635762            0  \n",
       "1   16.278846            0  \n",
       "2   16.278846            0  \n",
       "3   16.278846            0  \n",
       "4   15.968858            0  \n",
       "\n",
       "[5 rows x 24 columns]"
      ]
     },
     "execution_count": 5,
     "metadata": {},
     "output_type": "execute_result"
    }
   ],
   "source": [
    "df.head(5)"
   ]
  },
  {
   "cell_type": "code",
   "execution_count": 6,
   "metadata": {},
   "outputs": [
    {
     "data": {
      "text/plain": [
       "(14811, 24)"
      ]
     },
     "execution_count": 6,
     "metadata": {},
     "output_type": "execute_result"
    }
   ],
   "source": [
    "df.shape"
   ]
  },
  {
   "cell_type": "code",
   "execution_count": 7,
   "metadata": {},
   "outputs": [
    {
     "data": {
      "text/plain": [
       "screen_name                     0\n",
       "hashtags                        0\n",
       "bookmark_count                  0\n",
       "created_at                      0\n",
       "favorite_count                  0\n",
       "full_text                       0\n",
       "is_quote_status                 0\n",
       "quote_count                     0\n",
       "reply_count                     0\n",
       "retweet_count                   0\n",
       "user_id_str                     0\n",
       "id                              0\n",
       "is_retweet                      0\n",
       "is_quoted                       0\n",
       "is_reply                        0\n",
       "views                           0\n",
       "url                             0\n",
       "time_diff                    1241\n",
       "average_time_diff             652\n",
       "time_diff_seconds            1241\n",
       "average_time_diff_seconds     652\n",
       "time_bot                     1241\n",
       "views/like                      0\n",
       "views_score                     0\n",
       "dtype: int64"
      ]
     },
     "execution_count": 7,
     "metadata": {},
     "output_type": "execute_result"
    }
   ],
   "source": [
    "df.isnull().sum()"
   ]
  },
  {
   "cell_type": "code",
   "execution_count": 8,
   "metadata": {},
   "outputs": [],
   "source": [
    "df = df[['screen_name','hashtags','full_text']]"
   ]
  },
  {
   "cell_type": "code",
   "execution_count": 9,
   "metadata": {},
   "outputs": [
    {
     "data": {
      "text/html": [
       "<div>\n",
       "<style scoped>\n",
       "    .dataframe tbody tr th:only-of-type {\n",
       "        vertical-align: middle;\n",
       "    }\n",
       "\n",
       "    .dataframe tbody tr th {\n",
       "        vertical-align: top;\n",
       "    }\n",
       "\n",
       "    .dataframe thead th {\n",
       "        text-align: right;\n",
       "    }\n",
       "</style>\n",
       "<table border=\"1\" class=\"dataframe\">\n",
       "  <thead>\n",
       "    <tr style=\"text-align: right;\">\n",
       "      <th></th>\n",
       "      <th>screen_name</th>\n",
       "      <th>hashtags</th>\n",
       "      <th>full_text</th>\n",
       "    </tr>\n",
       "  </thead>\n",
       "  <tbody>\n",
       "    <tr>\n",
       "      <th>0</th>\n",
       "      <td>0xASMedia</td>\n",
       "      <td>HOODIESEASON</td>\n",
       "      <td>#HOODIESEASON\\n\\nFollowing trends always kind ...</td>\n",
       "    </tr>\n",
       "    <tr>\n",
       "      <th>1</th>\n",
       "      <td>0xASMedia</td>\n",
       "      <td>Giveaway</td>\n",
       "      <td>ASM x Unchained Elephants🔥\\n\\nTake part in a #...</td>\n",
       "    </tr>\n",
       "    <tr>\n",
       "      <th>2</th>\n",
       "      <td>0xASMedia</td>\n",
       "      <td>XRP</td>\n",
       "      <td>ASM x Unchained Elephants🔥\\n\\nTake part in a #...</td>\n",
       "    </tr>\n",
       "    <tr>\n",
       "      <th>3</th>\n",
       "      <td>0xASMedia</td>\n",
       "      <td>auction</td>\n",
       "      <td>ASM x Unchained Elephants🔥\\n\\nTake part in a #...</td>\n",
       "    </tr>\n",
       "    <tr>\n",
       "      <th>4</th>\n",
       "      <td>0xASMedia</td>\n",
       "      <td>XRP</td>\n",
       "      <td>The time is approaching quickly! #XRP #ASM\\n\\n...</td>\n",
       "    </tr>\n",
       "  </tbody>\n",
       "</table>\n",
       "</div>"
      ],
      "text/plain": [
       "  screen_name      hashtags                                          full_text\n",
       "0   0xASMedia  HOODIESEASON  #HOODIESEASON\\n\\nFollowing trends always kind ...\n",
       "1   0xASMedia      Giveaway  ASM x Unchained Elephants🔥\\n\\nTake part in a #...\n",
       "2   0xASMedia           XRP  ASM x Unchained Elephants🔥\\n\\nTake part in a #...\n",
       "3   0xASMedia       auction  ASM x Unchained Elephants🔥\\n\\nTake part in a #...\n",
       "4   0xASMedia           XRP  The time is approaching quickly! #XRP #ASM\\n\\n..."
      ]
     },
     "execution_count": 9,
     "metadata": {},
     "output_type": "execute_result"
    }
   ],
   "source": [
    "df.head(5)"
   ]
  },
  {
   "cell_type": "code",
   "execution_count": 10,
   "metadata": {},
   "outputs": [
    {
     "data": {
      "text/plain": [
       "'#HOODIESEASON\\n\\nFollowing trends always kind of pissed me off\\n\\nLet it come from the heart💔\\n\\nPortion of the profits from all the clothing drops distributed back to Lost Souls holders, I think they call that \"utility\"\\n\\nStill reading? Like, follow &amp; retweet to enter into a 25 XRP… https://t.co/F1id1DVpRe'"
      ]
     },
     "execution_count": 10,
     "metadata": {},
     "output_type": "execute_result"
    }
   ],
   "source": [
    "df['full_text'][0]"
   ]
  },
  {
   "cell_type": "code",
   "execution_count": 11,
   "metadata": {},
   "outputs": [],
   "source": [
    "df['full_text'] = df['full_text'].str.lower().replace(r'^\\w\\s', ' ').replace(r'\\n', ' ', regex = True)\n"
   ]
  },
  {
   "cell_type": "code",
   "execution_count": 12,
   "metadata": {},
   "outputs": [
    {
     "data": {
      "text/plain": [
       "'#hoodieseason  following trends always kind of pissed me off  let it come from the heart💔  portion of the profits from all the clothing drops distributed back to lost souls holders, i think they call that \"utility\"  still reading? like, follow &amp; retweet to enter into a 25 xrp… https://t.co/f1id1dvpre'"
      ]
     },
     "execution_count": 12,
     "metadata": {},
     "output_type": "execute_result"
    }
   ],
   "source": [
    "df['full_text'][0]"
   ]
  },
  {
   "cell_type": "code",
   "execution_count": 13,
   "metadata": {},
   "outputs": [
    {
     "name": "stderr",
     "output_type": "stream",
     "text": [
      "[nltk_data] Downloading package punkt to\n",
      "[nltk_data]     C:\\Users\\Admin\\AppData\\Roaming\\nltk_data...\n",
      "[nltk_data]   Package punkt is already up-to-date!\n"
     ]
    }
   ],
   "source": [
    "import nltk\n",
    "nltk.download('punkt')\n",
    "from nltk.stem.porter import PorterStemmer\n",
    "stemmer = PorterStemmer()\n",
    "\n",
    "def tokenization(txt):\n",
    "    tokens = nltk.word_tokenize(txt)\n",
    "    stemming = [stemmer.stem(w) for w in tokens]\n",
    "    return \" \".join(stemming)"
   ]
  },
  {
   "cell_type": "code",
   "execution_count": 14,
   "metadata": {},
   "outputs": [],
   "source": [
    "df['full_text'] = df['full_text'].apply(lambda x: tokenization(x))"
   ]
  },
  {
   "cell_type": "code",
   "execution_count": 15,
   "metadata": {},
   "outputs": [],
   "source": [
    "from sklearn.feature_extraction.text import TfidfVectorizer\n",
    "from sklearn.metrics.pairwise import cosine_similarity"
   ]
  },
  {
   "cell_type": "code",
   "execution_count": 16,
   "metadata": {},
   "outputs": [],
   "source": [
    "tfidvector = TfidfVectorizer(analyzer='word',stop_words='english')\n",
    "matrix = tfidvector.fit_transform(df['full_text'])\n",
    "similarity = cosine_similarity(matrix)"
   ]
  },
  {
   "cell_type": "code",
   "execution_count": 45,
   "metadata": {},
   "outputs": [
    {
     "data": {
      "text/plain": [
       "array([1.        , 0.06864192, 0.06864192, ..., 0.00291609, 0.00291609,\n",
       "       0.05372947])"
      ]
     },
     "execution_count": 45,
     "metadata": {},
     "output_type": "execute_result"
    }
   ],
   "source": [
    "similarity[0]"
   ]
  },
  {
   "cell_type": "code",
   "execution_count": 17,
   "metadata": {},
   "outputs": [],
   "source": [
    "def recommendation(screen_name):\n",
    "    idx = df[df['screen_name'] == screen_name].index[0]\n",
    "    distances = sorted(list(enumerate(similarity[idx])),reverse=True,key=lambda x:x[1])\n",
    "    \n",
    "    recommends = []\n",
    "    for m_id in distances[1:20]:\n",
    "        if df.iloc[m_id[0]].full_text in recommends:\n",
    "          continue\n",
    "        recommends.append(df.iloc[m_id[0]].full_text)\n",
    "        if len(recommends) == 4:\n",
    "          break\n",
    "        \n",
    "    return recommends"
   ]
  },
  {
   "cell_type": "code",
   "execution_count": 18,
   "metadata": {},
   "outputs": [
    {
     "data": {
      "text/plain": [
       "['the time is approach quickli ! # xrp # asm # giveaway follow , retweet , & amp ; tag the homi for a chanc to win 15 xrp ! there are onli 108 lost soul left to be mint ! ⏳ we are close in on the final opportun to be elig for our genesi phygit + 3d metavers collectibles… http : //t.co/oe7xlleqz7',\n",
       " 'win a share of $ 1,000 # bitcoin to enter : - like 👍 - retweet ♻️ - follow @ cryptosavingexp & amp ; @ martiniguyyt winner drawn on friday',\n",
       " '# shibarmi would you like to see a portion of the proce from the @ tangem shiba wallet burn ? let your voic be heard in the poll below ! 🔥',\n",
       " '4/ alway dyor — and more to come on thi soon 👀']"
      ]
     },
     "execution_count": 18,
     "metadata": {},
     "output_type": "execute_result"
    }
   ],
   "source": [
    "recommendation('0xASMedia')"
   ]
  },
  {
   "cell_type": "code",
   "execution_count": 19,
   "metadata": {},
   "outputs": [],
   "source": [
    "import pickle\n",
    "pickle.dump(similarity,open('similarity.pkl','wb'))\n",
    "pickle.dump(df,open('df.pkl','wb'))"
   ]
  }
 ],
 "metadata": {
  "kernelspec": {
   "display_name": "Python 3",
   "language": "python",
   "name": "python3"
  },
  "language_info": {
   "codemirror_mode": {
    "name": "ipython",
    "version": 3
   },
   "file_extension": ".py",
   "mimetype": "text/x-python",
   "name": "python",
   "nbconvert_exporter": "python",
   "pygments_lexer": "ipython3",
   "version": "3.11.0"
  }
 },
 "nbformat": 4,
 "nbformat_minor": 2
}
